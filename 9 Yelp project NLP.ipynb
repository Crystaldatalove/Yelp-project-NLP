{
 "cells": [
  {
   "cell_type": "code",
   "execution_count": 6,
   "metadata": {
    "collapsed": false
   },
   "outputs": [],
   "source": [
    "import pandas as pd\n",
    "import numpy as np\n",
    "import scipy as sp\n",
    "import matplotlib.pyplot as plt\n",
    "from sklearn.cross_validation import train_test_split\n",
    "from sklearn.feature_extraction.text import CountVectorizer, TfidfVectorizer\n",
    "from sklearn.naive_bayes import MultinomialNB\n",
    "from sklearn.linear_model import LogisticRegression\n",
    "from sklearn import metrics\n",
    "from textblob import TextBlob, Word\n",
    "from nltk.stem.snowball import SnowballStemmer\n",
    "%matplotlib inline"
   ]
  },
  {
   "cell_type": "code",
   "execution_count": 9,
   "metadata": {
    "collapsed": true
   },
   "outputs": [],
   "source": [
    "#http://scikit-learn.org/stable/modules/generated/sklearn.naive_bayes.MultinomialNB.html\n",
    "#https://textblob.readthedocs.io/en/dev/"
   ]
  },
  {
   "cell_type": "code",
   "execution_count": 7,
   "metadata": {
    "collapsed": false
   },
   "outputs": [
    {
     "name": "stdout",
     "output_type": "stream",
     "text": [
      "                 business_id        date               review_id  stars  \\\n",
      "0     9yKzy9PApeiPPOUJEtnvkg   1/26/2011  fWKvX83p0-ka4JS3dc6E5A      5   \n",
      "1     ZRJwVLyzEJq1VAihDhYiow   7/27/2011  IjZ33sJrzXqU-0X6U8NwyA      5   \n",
      "2     6oRAC4uyJCsJl1X0WZpVSA   6/14/2012  IESLBzqUCLdSzSqm0eCSxQ      4   \n",
      "3     _1QQZuf4zZOyFCvXc0o6Vg   5/27/2010  G-WvGaISbqqaMHlNnByodA      5   \n",
      "4     6ozycU1RpktNG2-1BroVtw    1/5/2012  1uJFq2r5QfJG_6ExMRCaGw      5   \n",
      "5                     #NAME?  12/13/2007  m2CKSsepBCoRYWxiRUsxAg      4   \n",
      "6     zp713qNhx8d9KCJJnrw1xA   2/12/2010  riFQ3vxNpP4rWLk_CSri2A      5   \n",
      "7     hW0Ne_HTHEAgGF1rAdmR-g   7/12/2012  JL7GXJ9u4YMx7Rzs05NfiQ      4   \n",
      "8     wNUea3IXZWD63bbOQaOH-g   8/17/2012  XtnfnYmnJYi71yIuGsXIUA      4   \n",
      "9     nMHhuYan8e3cONo3PornJA   8/11/2010  jJAIXA46pU1swYyRCdfXtQ      5   \n",
      "10    AsSCv0q_BWqIe3mX2JqsOQ   6/16/2010  E11jzpKz9Kw5K7fuARWfRw      5   \n",
      "11    e9nN4XxjdHj4qtKCOPq_vg  10/21/2011  3rPt0LxF7rgmEUrznoH22w      5   \n",
      "12    h53YuCiIDfEFSJCQpk8v1g   1/11/2010  cGnKNX3I9rthE0-TH24-qA      5   \n",
      "13    WGNIYMeXPyoWav1APUq7jA  12/23/2011  FvEEw1_OsrYdvwLV5Hrliw      4   \n",
      "14    yc5AH9H71xJidA_J2mChLA   5/20/2010  pfUwBKYYmUXeiwrhDluQcw      4   \n",
      "15    Vb9FPCEL6Ly24PNxLBaAFw   3/20/2011  HvqmdqWcerVWO3Gs6zbrOw      2   \n",
      "16    supigcPNO9IKo6olaTNV-g  10/12/2008  HXP_0Ul-FCmA4f-k9CqvaQ      3   \n",
      "17    O510Re68mOy9dU490JTKCg    5/3/2010  j4SIzrIy0WrmW4yr4--Khg      5   \n",
      "18    b5cEoKR8iQliq-yT2_O0LQ    3/6/2009  v0cTd3PNpYCkTyGKSpOfGA      3   \n",
      "19    4JzzbSbK9wmlOBJZWYfuCg  11/17/2011  a0lCu-j2Sk_kHQsZi_eNgw      4   \n",
      "20    8FNO4D3eozpIjj0k3q5Zbg   10/8/2008  MuqugTuR5DdIPcZ2IVP3aQ      3   \n",
      "21    tdcjXyFLMKAsvRhURNOkCg   6/28/2011  LmuKVFh03Uz318VKnUWrxA      5   \n",
      "22    eFA9dqXT5EA_TrMgbo03QQ   7/13/2011  CQYc8hgKxV4enApDkx0IhA      5   \n",
      "23    IJ0o6b8bJFAbG6MjGfBebQ    9/5/2010  Dx9sfFU6Zn0GYOckijom-g      1   \n",
      "24    JhupPnWfNlMJivnWB5druA   5/22/2011  cFtQnKzn2VDpBedy_TxlvA      5   \n",
      "25    wzP2yNpV5p04nh0injjymA   5/26/2010  ChBeixVZerfFkeO0McdlbA      4   \n",
      "26    qjmCVYkwP-HDa35jwYucbQ    1/3/2013  kZ4TzrVX6qeF0OvrVTGVEw      5   \n",
      "27    wct7rZKyZqZftzmAU-vhWQ   3/21/2008  B5h25WK28rJjx4KHm4gr7g      4   \n",
      "28    vz2zQQSjy-NnnKLZzjjoxA   3/30/2011  Y_ERKao0J5WsRiCtlKSNSA      4   \n",
      "29    i213sY5rhkfCO8cD-FPr1A   7/12/2012  hre97jjSwon4bn1muHKOJg      4   \n",
      "...                      ...         ...                     ...    ...   \n",
      "9970  R6aazv8FB-6BeanY3ag8kw   9/26/2009  gP17ykqduf3AlewSaRb61w      5   \n",
      "9971  JOZqBKIOB8WEBAWm7v1JFA   7/22/2008  QI9rfeWrZnvK5ojz8cEoRg      5   \n",
      "9972  OllL0G9Kh_k1lx-2vrFDXQ  10/23/2012  U23UfuxN9DpAU0Dslc5KjQ      4   \n",
      "9973  XHr5mXFgobOHoxbPJxmYdg   9/28/2009  udMiWjeG0OGcb4nNddDkBg      5   \n",
      "9974  cdacUBBL2tDbDnB1EfhpQw  12/16/2009  bVU-_x9ijxjEImNluy84OA      2   \n",
      "9975  EWMwV5V9BxNs_U6nNVMeqw  10/20/2007  g4LsVAoafmUDHiS-_yN4tA      5   \n",
      "9976  iDYzGVIF1TDWdjHNgNjCVw   9/11/2009  bKjMcpNj0xSu2UI2EFQn1g      3   \n",
      "9977  iDYzGVIF1TDWdjHNgNjCVw  10/30/2012  qaNZyCUJA6Yp0mvPBCknPQ      5   \n",
      "9978  9Y3aQAVITkEJYe5vLZr13w    4/1/2010  ZoTUU6EJ1OBNr7mhqxHBLw      5   \n",
      "9979  GV1P1x9eRb4iZHCxj5_IjA   12/7/2012  eVUs1C4yaVJNrc7SGTAheg      5   \n",
      "9980  GHYOl_cnERMOhkCK_mGAlA    7/3/2011  Q-y3jSqccdytKxAyo1J0Xg      5   \n",
      "9981  AX8lx9wHNYT45lyd7pxaYw  11/27/2008  IyunTh7jnG7v3EYwfF3hPw      5   \n",
      "9982  KV-yJLmlODfUG1Mkds6kYw   2/25/2012  rIgZgxJPWTacq3mV6DfWfg      4   \n",
      "9983  24V8QQWO6VaVggHdxjQQ_A    6/6/2010  PqiIeFOiVr-tj_FtHGAH2g      3   \n",
      "9984  wepFVY82q_tuDzG6lQjHWw   2/12/2012  spusZYROtBKw_5tv3gYm4Q      1   \n",
      "9985  EMGkbiCMfMTflQux-_JY7Q  10/17/2012  wB-f0xfx7WIyrOsRJMkDOg      4   \n",
      "9986  oCA2OZcd_Jo_ggVmUx3WVw   3/31/2012  ijPZPKKWDqdWOIqYkUsJJw      4   \n",
      "9987  r-a-Cn9hxdEnYTtVTB5bMQ    4/7/2012  j9HwZZoBBmJgOlqDSuJcxg      1   \n",
      "9988  xY1sPHTA2RGVFlh5tZhs9g    6/2/2012  TM8hdYqs5Zi1jO5Yrq6E0g      4   \n",
      "9989  mQUC-ATrFuMQSaDQb93Pug   10/1/2011  ta2P9joJqeFB8BzFp-AzjA      5   \n",
      "9990  R8VwdLyvsp9iybNqRvm94g   10/3/2011  pcEeHdAJPoFNF23es0kKWg      5   \n",
      "9991  WJ5mq4EiWYAA4Vif0xDfdg   12/5/2011  EuHX-39FR7tyyG1ElvN1Jw      5   \n",
      "9992  f96lWMIAUhYIYy9gOktivQ   3/10/2009  YF17z7HWlMj6aezZc-pVEw      5   \n",
      "9993  maB4VHseFUY2TmPtAQnB9Q   6/27/2011  SNnyYHI9rw9TTltVX3TF-A      4   \n",
      "9994  L3BSpFvxcNf3T_teitgt6A   3/19/2012  0nxb1gIGFgk3WbC5zwhKZg      5   \n",
      "9995  VY_tvNUCCXGXQeSvJl757Q   7/28/2012  Ubyfp2RSDYW0g7Mbr8N3iA      3   \n",
      "9996  EKzMHI1tip8rC1-ZAy64yg   1/18/2012  2XyIOQKbVFb6uXQdJ0RzlQ      4   \n",
      "9997  53YGfwmbW73JhFiemNeyzQ  11/16/2010  jyznYkIbpqVmlsZxSDSypA      4   \n",
      "9998  9SKdOoDHcFoxK5ZtsgHJoA   12/2/2012  5UKq9WQE1qQbJ0DJbc-B6Q      2   \n",
      "9999  pF7uRzygyZsltbmVpjIyvw  10/16/2010  vWSmOhg2ID1MNZHaWapGbA      5   \n",
      "\n",
      "                                                   text    type  \\\n",
      "0     My wife took me here on my birthday for breakf...  review   \n",
      "1     I have no idea why some people give bad review...  review   \n",
      "2     love the gyro plate. Rice is so good and I als...  review   \n",
      "3     Rosie, Dakota, and I LOVE Chaparral Dog Park!!...  review   \n",
      "4     General Manager Scott Petello is a good egg!!!...  review   \n",
      "5     Quiessence is, simply put, beautiful.  Full wi...  review   \n",
      "6     Drop what you're doing and drive here. After I...  review   \n",
      "7     Luckily, I didn't have to travel far to make m...  review   \n",
      "8     Definitely come for Happy hour! Prices are ama...  review   \n",
      "9     Nobuo shows his unique talents with everything...  review   \n",
      "10    The oldish man who owns the store is as sweet ...  review   \n",
      "11    Wonderful Vietnamese sandwich shoppe. Their ba...  review   \n",
      "12    They have a limited time thing going on right ...  review   \n",
      "13    Good tattoo shop. Clean space, multiple artist...  review   \n",
      "14    I'm 2 weeks new to Phoenix. I looked up Irish ...  review   \n",
      "15    Was it worth the 21$ for a salad and small piz...  review   \n",
      "16    We went here on a Saturday afternoon and this ...  review   \n",
      "17    okay this is the best place EVER! i grew up sh...  review   \n",
      "18    I met a friend for lunch yesterday. \\r\\n\\r\\nLo...  review   \n",
      "19    They've gotten better and better for me in the...  review   \n",
      "20    DVAP....\\r\\n\\r\\nYou have to go at least once i...  review   \n",
      "21    This place shouldn't even be reviewed - becaus...  review   \n",
      "22    first time my friend and I went there... it wa...  review   \n",
      "23    U can go there n check the car out. If u wanna...  review   \n",
      "24    I love this place! I have been coming here for...  review   \n",
      "25    This place is great.  A nice little ole' fashi...  review   \n",
      "26    I love love LOVE this place. My boss (who is i...  review   \n",
      "27    Not that my review will mean much given the mo...  review   \n",
      "28    Came here for breakfast yesterday, it had been...  review   \n",
      "29    Always reliably good.  Great beer selection as...  review   \n",
      "...                                                 ...     ...   \n",
      "9970  This place is super cute lunch joint.  I had t...  review   \n",
      "9971  The staff is great, the food is great, even th...  review   \n",
      "9972  Yay, even though I miss living in Coronado I a...  review   \n",
      "9973  Wow!  Went on a Sunday around 11am - busy but ...  review   \n",
      "9974  If Cowboy Ciao is the best restaurant in Scott...  review   \n",
      "9975  When I lived in Phoenix, I was a regular at Fe...  review   \n",
      "9976  I was looking for chile rellenos and this plac...  review   \n",
      "9977  Why did I wait so long to try this neighborhoo...  review   \n",
      "9978  This is the place for a fabulos breakfast!! I ...  review   \n",
      "9979  Highly recommend. This is my second time here ...  review   \n",
      "9980  5 stars for the great $5 happy hour specials. ...  review   \n",
      "9981  We brought the entire family to Giuseppe's las...  review   \n",
      "9982  Best corned beef sandwich I've had anywhere at...  review   \n",
      "9983  3.5 stars. \\r\\n\\r\\nWe decided to check this pl...  review   \n",
      "9984  Went last night to Whore Foods to get basics t...  review   \n",
      "9985  Awesome food! Little pricey but delicious. Lov...  review   \n",
      "9986  I came here in December and look forward to my...  review   \n",
      "9987  The food is delicious.  The service:  discrimi...  review   \n",
      "9988  For our first time we had a great time! Our se...  review   \n",
      "9989  Great food and service! Country food at its best!  review   \n",
      "9990  Yes I do rock the hipster joints.  I dig this ...  review   \n",
      "9991  Only 4 stars? \\r\\n\\r\\n(A few notes: The folks ...  review   \n",
      "9992  I'm not normally one to jump at reviewing a ch...  review   \n",
      "9993  Judging by some of the reviews, maybe I went o...  review   \n",
      "9994  Let's see...what is there NOT to like about Su...  review   \n",
      "9995  First visit...Had lunch here today - used my G...  review   \n",
      "9996  Should be called house of deliciousness!\\r\\n\\r...  review   \n",
      "9997  I recently visited Olive and Ivy for business ...  review   \n",
      "9998  My nephew just moved to Scottsdale recently so...  review   \n",
      "9999  4-5 locations.. all 4.5 star average.. I think...  review   \n",
      "\n",
      "                     user_id  cool  useful  funny  \n",
      "0     rLtl8ZkDX5vH5nAx9C3q5Q     2       5      0  \n",
      "1     0a2KyEL0d3Yb1V6aivbIuQ     0       0      0  \n",
      "2     0hT2KtfLiobPvh6cDC8JQg     0       1      0  \n",
      "3     uZetl9T0NcROGOyFfughhg     1       2      0  \n",
      "4     vYmM4KTsC8ZfQBg-j5MWkw     0       0      0  \n",
      "5     sqYN3lNgvPbPCTRsMFu27g     4       3      1  \n",
      "6     wFweIWhv2fREZV_dYkz_1g     7       7      4  \n",
      "7     1ieuYcKS7zeAv_U15AB13A     0       1      0  \n",
      "8     Vh_DlizgGhSqQh4qfZ2h6A     0       0      0  \n",
      "9     sUNkXg8-KFtCMQDV6zRzQg     0       1      0  \n",
      "10                    #NAME?     1       3      1  \n",
      "11    C1rHp3dmepNea7XiouwB6Q     1       1      0  \n",
      "12    UPtysDF6cUDUxq2KY-6Dcg     1       2      0  \n",
      "13    Xm8HXE1JHqscXe5BKf0GFQ     1       2      0  \n",
      "14    JOG-4G4e8ae3lx_szHtR8g     1       1      0  \n",
      "15    ylWOj2y7TV2e3yYeWhu2QA     0       2      0  \n",
      "16    SBbftLzfYYKItOMFwOTIJg     3       4      2  \n",
      "17    u1KWcbPMvXFEEYkZZ0Yktg     0       0      0  \n",
      "18    UsULgP4bKA8RMzs8dQzcsA     5       6      4  \n",
      "19    nDBly08j5URmrHQ2JCbyiw     1       1      1  \n",
      "20    C6IOtaaYdLIT5fWd7ZYIuA     2       4      1  \n",
      "21    YN3ZLOdg8kpnfbVcIhuEZA     1       1      2  \n",
      "22    6lg55RIP23VhjYEBXJ8Njw     0       0      0  \n",
      "23    zRlQEDYd_HKp0VS3hnAffA     0       1      1  \n",
      "24    13xj6FSvYO0rZVRv5XZp4w     0       1      0  \n",
      "25    rLtl8ZkDX5vH5nAx9C3q5Q     0       0      0  \n",
      "26    fpItLlgimq0nRltWOkuJJw     0       0      0  \n",
      "27    RRTraCQw77EU4yZh0BBTag     2       4      1  \n",
      "28    EP3cGJvYiuOwumerwADplg     1       1      1  \n",
      "29    kpbhy1zPewGDmdNfNqQp-g     0       1      0  \n",
      "...                      ...   ...     ...    ...  \n",
      "9970  mtoKqaQjGPWEc5YZbrYV9w     0       0      0  \n",
      "9971  uBAMd01ZtGXaHrRD6THNzg     1       2      1  \n",
      "9972  Gh1EXuS42DY3rV_MzFpJpg     0       0      0  \n",
      "9973  yRYNx24kUDRRBfJu1Rcojg     0       0      0  \n",
      "9974  V9Uqt00HXwXT6mzsVCjMAw     0       0      0  \n",
      "9975  TLj3XaclA7V4ldJ5yNP-9Q     1       1      0  \n",
      "9976  2tUCLMHQKz4kA1VlRB_w0Q     0       0      0  \n",
      "9977  Id-8-NMEKxeXBR44eUdDeA     3       6      3  \n",
      "9978  vasHsAZEgLZGJDTlIweUYQ     0       1      0  \n",
      "9979  bJFdmJJxfXgCYA5DMmyeqQ     2       2      1  \n",
      "9980  xZvRLPJ1ixhFVomkXSfXAw     6       6      4  \n",
      "9981  fczQCSmaWF78toLEmb0Zsw    10       9      5  \n",
      "9982  J-oVr0th2Y7ltPPOwy0Z8Q     0       0      0  \n",
      "9983  LaEj3VpQh7bgpAZLzSRRrw     1       4      1  \n",
      "9984  W7zmm1uzlyUkEqpSG7PlBw     0       1      2  \n",
      "9985  9MJAacmjxtctbI3xncsK5Q     0       0      0  \n",
      "9986  yzwPJdn6yd2ccZqfy4LhUA     0       0      0  \n",
      "9987  toPtsUtYoRB-5-ThrOy2Fg     0       0      0  \n",
      "9988  GvaNZY4poCcd3H4WxHjrLQ     0       2      0  \n",
      "9989  fKaO8fR1IAcfvZb6cBrs2w     0       1      0  \n",
      "9990  b92Y3tyWTQQZ5FLifex62Q     1       1      1  \n",
      "9991  hTau-iNZFwoNsPCaiIUTEA     1       1      0  \n",
      "9992  W_QXYA7A0IhMrvbckz7eVg     2       3      2  \n",
      "9993  T46gxPbJMWmlLyr7GxQLyQ     1       1      0  \n",
      "9994  OzOZv-Knlw3oz9K5Kh5S6A     1       2      1  \n",
      "9995  _eqQoPtQ3e3UxLE4faT6ow     1       2      0  \n",
      "9996  ROru4uk5SaYc3rg8IU7SQw     0       0      0  \n",
      "9997  gGbN1aKQHMgfQZkqlsuwzg     0       0      0  \n",
      "9998  0lyVoNazXa20WzUyZPLaQQ     0       0      0  \n",
      "9999  KSBFytcdjPKZgXKQnYQdkA     0       0      0  \n",
      "\n",
      "[10000 rows x 10 columns]\n"
     ]
    }
   ],
   "source": [
    "#read yelp.csv into a DataFrame\n",
    "url = 'yelp.csv'\n",
    "yelp = pd.read_csv(url)\n",
    "\n",
    "print yelp\n",
    "\n",
    "#create a new DataFrame that only contains the 5-star and 1-star reviews\n",
    "yelp_best_worst = yelp[(yelp.stars==5) | (yelp.stars==1)]"
   ]
  },
  {
   "cell_type": "code",
   "execution_count": 8,
   "metadata": {
    "collapsed": false
   },
   "outputs": [
    {
     "name": "stdout",
     "output_type": "stream",
     "text": [
      "0       My wife took me here on my birthday for breakf...\n",
      "1       I have no idea why some people give bad review...\n",
      "3       Rosie, Dakota, and I LOVE Chaparral Dog Park!!...\n",
      "4       General Manager Scott Petello is a good egg!!!...\n",
      "6       Drop what you're doing and drive here. After I...\n",
      "9       Nobuo shows his unique talents with everything...\n",
      "10      The oldish man who owns the store is as sweet ...\n",
      "11      Wonderful Vietnamese sandwich shoppe. Their ba...\n",
      "12      They have a limited time thing going on right ...\n",
      "17      okay this is the best place EVER! i grew up sh...\n",
      "21      This place shouldn't even be reviewed - becaus...\n",
      "22      first time my friend and I went there... it wa...\n",
      "23      U can go there n check the car out. If u wanna...\n",
      "24      I love this place! I have been coming here for...\n",
      "26      I love love LOVE this place. My boss (who is i...\n",
      "30      Disclaimer: Like many of you, I am a sucker fo...\n",
      "31      Disgusting!  Had a Groupon so my daughter and ...\n",
      "32      Never having dealt with a Discount Tire in Pho...\n",
      "35      I've eaten here many times, but none as bad as...\n",
      "46      (Un)fortunately for me, lux is close to my hou...\n",
      "51      Fred M. pretty much said what I would say, so ...\n",
      "54      Alright, I have been away from Yelp for quite ...\n",
      "59      This restaurant is incredible, and has the bes...\n",
      "61      I have always been a fan of Burlington's deals...\n",
      "64      Another night meeting friends here.  I have to...\n",
      "65      Not busy at all but took nearly 45 min to get ...\n",
      "66      This an incredible church that embraces the pr...\n",
      "67      This is our favorite breakfast place. The food...\n",
      "69      I had looked at several invitation websites al...\n",
      "71      Yikes, reading other reviews I realize my bad ...\n",
      "                              ...                        \n",
      "9941    I have a fond place in my heart for this estab...\n",
      "9942    Cork is an enigma.\\r\\n\\r\\nWhat makes it enigma...\n",
      "9943    Went to Yogurt Kingdom for the first time toni...\n",
      "9945    I find it hilarious that someone would referen...\n",
      "9947                                      LOVE Five Guys!\n",
      "9951    This is a great Mexican food restaurant. I eat...\n",
      "9953    \"Hipster,Trendy\" ????-I think NOT !!!! Very di...\n",
      "9956    \"So Jimmy, tell the class what you saw at Swee...\n",
      "9957    Standard Mexican fare - but quite delicious.  ...\n",
      "9959    My profile says....\\r\\n\\r\\nMy Last Meal On Ear...\n",
      "9965    Treats: We tried the cookies (chocolate chip a...\n",
      "9966    I first joined 24 hr fitness about a year ago,...\n",
      "9969    Leah, the trainer, at Dog House Training Acade...\n",
      "9970    This place is super cute lunch joint.  I had t...\n",
      "9971    The staff is great, the food is great, even th...\n",
      "9973    Wow!  Went on a Sunday around 11am - busy but ...\n",
      "9975    When I lived in Phoenix, I was a regular at Fe...\n",
      "9977    Why did I wait so long to try this neighborhoo...\n",
      "9978    This is the place for a fabulos breakfast!! I ...\n",
      "9979    Highly recommend. This is my second time here ...\n",
      "9980    5 stars for the great $5 happy hour specials. ...\n",
      "9981    We brought the entire family to Giuseppe's las...\n",
      "9984    Went last night to Whore Foods to get basics t...\n",
      "9987    The food is delicious.  The service:  discrimi...\n",
      "9989    Great food and service! Country food at its best!\n",
      "9990    Yes I do rock the hipster joints.  I dig this ...\n",
      "9991    Only 4 stars? \\r\\n\\r\\n(A few notes: The folks ...\n",
      "9992    I'm not normally one to jump at reviewing a ch...\n",
      "9994    Let's see...what is there NOT to like about Su...\n",
      "9999    4-5 locations.. all 4.5 star average.. I think...\n",
      "Name: text, dtype: object\n",
      "0       5\n",
      "1       5\n",
      "3       5\n",
      "4       5\n",
      "6       5\n",
      "9       5\n",
      "10      5\n",
      "11      5\n",
      "12      5\n",
      "17      5\n",
      "21      5\n",
      "22      5\n",
      "23      1\n",
      "24      5\n",
      "26      5\n",
      "30      5\n",
      "31      1\n",
      "32      5\n",
      "35      1\n",
      "46      5\n",
      "51      5\n",
      "54      5\n",
      "59      5\n",
      "61      1\n",
      "64      1\n",
      "65      1\n",
      "66      5\n",
      "67      5\n",
      "69      5\n",
      "71      1\n",
      "       ..\n",
      "9941    5\n",
      "9942    5\n",
      "9943    5\n",
      "9945    5\n",
      "9947    5\n",
      "9951    5\n",
      "9953    1\n",
      "9956    5\n",
      "9957    5\n",
      "9959    5\n",
      "9965    5\n",
      "9966    5\n",
      "9969    5\n",
      "9970    5\n",
      "9971    5\n",
      "9973    5\n",
      "9975    5\n",
      "9977    5\n",
      "9978    5\n",
      "9979    5\n",
      "9980    5\n",
      "9981    5\n",
      "9984    1\n",
      "9987    1\n",
      "9989    5\n",
      "9990    5\n",
      "9991    5\n",
      "9992    5\n",
      "9994    5\n",
      "9999    5\n",
      "Name: stars, dtype: int64\n"
     ]
    }
   ],
   "source": [
    "#define X and y\n",
    "#x - separate all the text\n",
    "X = yelp_best_worst.text\n",
    "print X\n",
    "\n",
    "#y - separate all the stars rating\n",
    "y = yelp_best_worst.stars\n",
    "print y"
   ]
  },
  {
   "cell_type": "code",
   "execution_count": 9,
   "metadata": {
    "collapsed": false
   },
   "outputs": [
    {
     "name": "stdout",
     "output_type": "stream",
     "text": [
      "4309    Im a sucker for great libations and the stores...\n",
      "108     It's just like pizza bianco without the wait. ...\n",
      "7533    Is there a way I can give LUSH an extra star??...\n",
      "9108    What can I say about this place? I love it. It...\n",
      "8582    My husband and I heard great reviews about thi...\n",
      "3504    They finally just opened a Rita's location in ...\n",
      "5240    Green....how I love thee.  Green may be vegan/...\n",
      "4660    Just a quick review to reiterate how truly gre...\n",
      "1199    Excellent Soutwest breakfast bowl.  Great serv...\n",
      "8216    My daughter and I really enjoy eating here. We...\n",
      "6489    I'm a complete dive bar junkie. Whether I'm in...\n",
      "9231    Recently ordered Spinato's again and just had ...\n",
      "5750    Kids love Disney, and so do I.  One of my favo...\n",
      "4968                                           Excellent.\n",
      "5264    i tried the thai river noodles. they will not ...\n",
      "2745    I'm sure most people don't go to a fancy steak...\n",
      "2950    This is the best restaurant in Phoenix. My wif...\n",
      "3390    Okay, I will start out by saying that I just p...\n",
      "2887    Mill Ave has been missing a good breakfast noo...\n",
      "1355    When I mean 5 star, I mean 5 STARR...but this ...\n",
      "9898    Do Not Eat Here if you think a bathroom in any...\n",
      "3356    I love this place. I just tried the other Ethi...\n",
      "6772    Caught Louis CK here last night... \\r\\n\\r\\nBea...\n",
      "7093    I've been coming here for several years.  Can'...\n",
      "1019    A great family owned restaurant! Their lunch s...\n",
      "7544    I absolutely love the food here!  The sushi an...\n",
      "84      really, I can't believe this place has receive...\n",
      "1693    When I first stepped into Smeeks, my entire fa...\n",
      "2671    What can I say except that Jodi is incredible....\n",
      "4115    Los Olivos is a Scottsdale institution and I w...\n",
      "                              ...                        \n",
      "5946    Never disappointed with this place!\\r\\n\\r\\nGet...\n",
      "9793    I am a vegetarian and there is a ton of great ...\n",
      "1579    I have always loved this place.   Good Food, f...\n",
      "8721                                  This place is home.\n",
      "594     The BEST of the BEST!\\r\\n\\r\\nI agree with Dare...\n",
      "7245    Our go to pizza place! Don't see how they coul...\n",
      "6114    everytime my sister comes to town we go striag...\n",
      "7259    Thanks to Chris L's first review, OTFM has bee...\n",
      "856     I came here after receiving a free pizza at a ...\n",
      "3096    I love their menu!  The garlic mashed potatoes...\n",
      "3156    When I'm casual but want to feel NYC I go to C...\n",
      "2900    Just had my first hot dog at Short Leash Dogs ...\n",
      "8233    Good prices but this please is honestly not wo...\n",
      "8499    Everytime I think of Chodang my mouth waters. ...\n",
      "6228    One of my fave places in Phoenix.\\r\\nWell stoc...\n",
      "6854    I booked our anniversary trip to the Westin Ki...\n",
      "8948    Best cajun food in town, not just from a truck...\n",
      "9911    Been here twice now and tried two different do...\n",
      "293     The food was flavorful and plenty of it. Eatin...\n",
      "341     This is my favorite spa in the world! Hopefull...\n",
      "2311    Pizzeria Bianco: Before and After \\r\\nCited as...\n",
      "7104    This was my first experience with Lush (with m...\n",
      "9111    It saddens me to say that this isn't the worst...\n",
      "6787    Went here for a work function today. What can ...\n",
      "2180    Championship establishment here.\\r\\n\\r\\nI walk...\n",
      "9396    Pros: \\r\\n-No breed restrictions on dogs\\r\\n-W...\n",
      "2661    Sorry Banana Leaf... I'm usually not picky at ...\n",
      "9756    Alright this is the deal of deals, 2.75 for st...\n",
      "554     Hands down a great lil joint! Gotta get the gu...\n",
      "2575    Absolutely disgusting.  I had enchiladas and a...\n",
      "Name: text, dtype: object\n",
      "3922    Looking a cutting edge, wanting the best for e...\n",
      "8379    Greatness in the form of food, just like the o...\n",
      "4266    The Flower Studio far exceeded my expectations...\n",
      "5577        So yummy! Strange combination but great place\n",
      "537     I've been hearing about these cheesecakes from...\n",
      "2175    This has to be the worst restaurant in terms o...\n",
      "4556    I ate at Scramble last Friday and I have to sa...\n",
      "1502    We decided to eat here on a whim. My husband g...\n",
      "6434    I LOVE BURRITO EXPRESS. My fiance has been goi...\n",
      "2282    Just open.  I had the roast beef sandwich and ...\n",
      "2836    Cute busy place in Central Phoenix. Not hiding...\n",
      "3029    I'm a big fan of Silver Mine. I have been for ...\n",
      "461     I have now visited Herb n' Flavors several tim...\n",
      "2155    I love to come here from time to time when I'm...\n",
      "1048    Went to Fatburger with our family tonight and ...\n",
      "6068    This review pertains to carnitas, and as such ...\n",
      "4080    TIP #1 to Mesa-Gateway fliers: This is the ONL...\n",
      "1781    If you like the stuck up Scottsdale vibe this ...\n",
      "2674    I'm sorry to be what seems to be the lone one ...\n",
      "7913    Unprofessional, disorganized, and extremely lo...\n",
      "2822    Bad music, slow service, disgusting overpriced...\n",
      "9540    I can't remember the name of the special salad...\n",
      "9808    Went here last night when on our last night st...\n",
      "9461    There is only one reason  why I shouldn't love...\n",
      "9973    Wow!  Went on a Sunday around 11am - busy but ...\n",
      "4310    Wow! The Penang Curry (chicken) was absolutely...\n",
      "2263    This place is what Desert Ridge wishes it was!...\n",
      "3031    Andrea is absolutely wonderful. She's pet-sit ...\n",
      "5084    I am from Chicago - and the italian beef here ...\n",
      "9311    I was given a $100 gift card to use at Willow ...\n",
      "                              ...                        \n",
      "6878    Went here before a Phx Suns game. DELICIOUS! E...\n",
      "5985    We had a fantastic experience here! We went on...\n",
      "5951    Hospitality Suite Resort was my home away from...\n",
      "4836    So i thought with all the controversy surround...\n",
      "5394    Another 5 star review. I saw Beauty and the Be...\n",
      "6741    The oatmeal cookie frozen yogurt here is amazi...\n",
      "1612    I've been giving a lot of 5-star reviews latel...\n",
      "5596    Excellent food! I do say the service isn't alw...\n",
      "588     My husband and I have Been meaning to go in he...\n",
      "4636    Ahhh Shady's...I am a little embarrassed to ad...\n",
      "8730       Yum! Healthy selections and delicious flavors!\n",
      "7737    I have been going to Cartel for a while, and t...\n",
      "6076    Lots of \"gay on gay\" homophobia here.  Hick ba...\n",
      "6108    This is what I love about Phoenix, you find th...\n",
      "1259    Places like Made make me realize that there is...\n",
      "4010      Have eaten here several times.  Always amazing.\n",
      "9498    Been dying to come here ever since I saw this ...\n",
      "4201    Just a quick update - this KFC shut down just ...\n",
      "6291    The food was decent, however I am writing abou...\n",
      "2613    This was the second time I placed an order ove...\n",
      "2075    Bad shop, rude owners. Pro-tip: If you want to...\n",
      "7135    Free samples? One dollar churros? Cheap buys? ...\n",
      "1791    Matt's was absolutely fantastic. Got there at ...\n",
      "9632    What can I say ?  This is awesome.  I am a don...\n",
      "6576    veerrrrrryyyyyyyyy dirty. I think I will buy t...\n",
      "4803    I had such a great experience with Love Carpet...\n",
      "1878    I went here with Friends last Friday.  All my ...\n",
      "8501    I love this place! I've been here twice now an...\n",
      "7803    I'm sad to report that we dined here for lunch...\n",
      "8758    We used to go to this UPS store quite frequent...\n",
      "Name: text, dtype: object\n",
      "<bound method Series.count of 4309    5\n",
      "108     5\n",
      "7533    5\n",
      "9108    5\n",
      "8582    1\n",
      "3504    5\n",
      "5240    5\n",
      "4660    5\n",
      "1199    5\n",
      "8216    5\n",
      "6489    5\n",
      "9231    5\n",
      "5750    5\n",
      "4968    5\n",
      "5264    5\n",
      "2745    5\n",
      "2950    5\n",
      "3390    5\n",
      "2887    5\n",
      "1355    5\n",
      "9898    1\n",
      "3356    5\n",
      "6772    5\n",
      "7093    5\n",
      "1019    5\n",
      "7544    5\n",
      "84      1\n",
      "1693    5\n",
      "2671    5\n",
      "4115    5\n",
      "       ..\n",
      "5946    5\n",
      "9793    5\n",
      "1579    5\n",
      "8721    5\n",
      "594     5\n",
      "7245    5\n",
      "6114    5\n",
      "7259    5\n",
      "856     5\n",
      "3096    5\n",
      "3156    5\n",
      "2900    5\n",
      "8233    1\n",
      "8499    5\n",
      "6228    5\n",
      "6854    5\n",
      "8948    5\n",
      "9911    5\n",
      "293     5\n",
      "341     5\n",
      "2311    5\n",
      "7104    5\n",
      "9111    1\n",
      "6787    5\n",
      "2180    5\n",
      "9396    1\n",
      "2661    1\n",
      "9756    5\n",
      "554     5\n",
      "2575    1\n",
      "Name: stars, dtype: int64>\n",
      "<bound method Series.count of 3922    5\n",
      "8379    5\n",
      "4266    5\n",
      "5577    5\n",
      "537     5\n",
      "2175    1\n",
      "4556    1\n",
      "1502    5\n",
      "6434    5\n",
      "2282    5\n",
      "2836    5\n",
      "3029    5\n",
      "461     5\n",
      "2155    5\n",
      "1048    1\n",
      "6068    5\n",
      "4080    5\n",
      "1781    1\n",
      "2674    1\n",
      "7913    1\n",
      "2822    1\n",
      "9540    5\n",
      "9808    5\n",
      "9461    5\n",
      "9973    5\n",
      "4310    5\n",
      "2263    5\n",
      "3031    5\n",
      "5084    5\n",
      "9311    5\n",
      "       ..\n",
      "6878    5\n",
      "5985    5\n",
      "5951    5\n",
      "4836    1\n",
      "5394    5\n",
      "6741    5\n",
      "1612    5\n",
      "5596    5\n",
      "588     1\n",
      "4636    5\n",
      "8730    5\n",
      "7737    5\n",
      "6076    1\n",
      "6108    5\n",
      "1259    5\n",
      "4010    5\n",
      "9498    5\n",
      "4201    1\n",
      "6291    1\n",
      "2613    1\n",
      "2075    1\n",
      "7135    5\n",
      "1791    5\n",
      "9632    5\n",
      "6576    1\n",
      "4803    5\n",
      "1878    1\n",
      "8501    5\n",
      "7803    1\n",
      "8758    1\n",
      "Name: stars, dtype: int64>\n"
     ]
    }
   ],
   "source": [
    "#split the new DataFrame into training and testing sets\n",
    "X_train, X_test, y_train, y_test = train_test_split(X,y,test_size=0.33,random_state=1)\n",
    "\n",
    "#test_size=0.33\n",
    "print X_train\n",
    "print X_test\n",
    "print y_train.count\n",
    "print y_test.count"
   ]
  },
  {
   "cell_type": "code",
   "execution_count": null,
   "metadata": {
    "collapsed": true
   },
   "outputs": [],
   "source": [
    "#part 2 Tokenization\n",
    "#What: separate text into units such as sentances or words\n",
    "#why: gives structure to previously unstructured text\n",
    "#notes: relatively easy with English language text, not easy with some languages"
   ]
  },
  {
   "cell_type": "code",
   "execution_count": 10,
   "metadata": {
    "collapsed": false
   },
   "outputs": [
    {
     "name": "stdout",
     "output_type": "stream",
     "text": [
      "  (0, 13008)\t1\n",
      "  (0, 6068)\t1\n",
      "  (0, 15867)\t1\n",
      "  (0, 15645)\t1\n",
      "  (0, 9739)\t1\n",
      "  (0, 14802)\t1\n",
      "  (0, 625)\t1\n",
      "  (0, 14195)\t1\n",
      "  (0, 12524)\t1\n",
      "  (0, 15675)\t1\n",
      "  (0, 8411)\t1\n",
      "  (0, 7191)\t2\n",
      "  (0, 5358)\t1\n",
      "  (0, 15465)\t1\n",
      "  (0, 2821)\t1\n",
      "  (0, 7499)\t1\n",
      "  (0, 1899)\t1\n",
      "  (0, 9340)\t2\n",
      "  (0, 8524)\t1\n",
      "  (0, 8792)\t1\n",
      "  (0, 15934)\t1\n",
      "  (0, 15734)\t1\n",
      "  (0, 2422)\t1\n",
      "  (0, 2292)\t1\n",
      "  (0, 14253)\t1\n",
      "  :\t:\n",
      "  (2736, 5022)\t1\n",
      "  (2736, 6775)\t1\n",
      "  (2736, 815)\t1\n",
      "  (2736, 14499)\t1\n",
      "  (2736, 2660)\t1\n",
      "  (2736, 11402)\t1\n",
      "  (2736, 6481)\t2\n",
      "  (2736, 15143)\t1\n",
      "  (2736, 4364)\t1\n",
      "  (2736, 1444)\t1\n",
      "  (2736, 15412)\t2\n",
      "  (2736, 2177)\t1\n",
      "  (2736, 9802)\t2\n",
      "  (2736, 6625)\t1\n",
      "  (2736, 8808)\t1\n",
      "  (2736, 5666)\t2\n",
      "  (2736, 15017)\t1\n",
      "  (2736, 14268)\t1\n",
      "  (2736, 6116)\t1\n",
      "  (2736, 14448)\t1\n",
      "  (2736, 9283)\t1\n",
      "  (2736, 14316)\t2\n",
      "  (2736, 7741)\t2\n",
      "  (2736, 14258)\t2\n",
      "  (2736, 745)\t2\n"
     ]
    }
   ],
   "source": [
    "#use CountVectorizer to create document-term matrices from X_train and X_test\n",
    "vect = CountVectorizer()\n",
    "#print vect\n",
    "\n",
    "#print X_train\n",
    "X_train_dtm = vect.fit_transform(X_train)\n",
    "#X_train_dtm = vec.fit_transform(X_train).toarray()\n",
    "\n",
    "print X_train_dtm\n",
    "\n",
    "X_test_dtm = vect.transform(X_test)\n",
    "\n",
    "#print X_test_dtm"
   ]
  },
  {
   "cell_type": "code",
   "execution_count": 11,
   "metadata": {
    "collapsed": false
   },
   "outputs": [
    {
     "data": {
      "text/html": [
       "<div>\n",
       "<table border=\"1\" class=\"dataframe\">\n",
       "  <thead>\n",
       "    <tr style=\"text-align: right;\">\n",
       "      <th></th>\n",
       "      <th>00</th>\n",
       "      <th>000</th>\n",
       "      <th>00am</th>\n",
       "      <th>00pm</th>\n",
       "      <th>01</th>\n",
       "      <th>03</th>\n",
       "      <th>03342</th>\n",
       "      <th>04</th>\n",
       "      <th>05</th>\n",
       "      <th>07</th>\n",
       "      <th>...</th>\n",
       "      <th>zucchini</th>\n",
       "      <th>zuchinni</th>\n",
       "      <th>zumba</th>\n",
       "      <th>zupa</th>\n",
       "      <th>zuzu</th>\n",
       "      <th>zwiebel</th>\n",
       "      <th>zzed</th>\n",
       "      <th>éclairs</th>\n",
       "      <th>école</th>\n",
       "      <th>ém</th>\n",
       "    </tr>\n",
       "  </thead>\n",
       "  <tbody>\n",
       "    <tr>\n",
       "      <th>0</th>\n",
       "      <td>0</td>\n",
       "      <td>0</td>\n",
       "      <td>0</td>\n",
       "      <td>0</td>\n",
       "      <td>0</td>\n",
       "      <td>0</td>\n",
       "      <td>0</td>\n",
       "      <td>0</td>\n",
       "      <td>0</td>\n",
       "      <td>0</td>\n",
       "      <td>...</td>\n",
       "      <td>0</td>\n",
       "      <td>0</td>\n",
       "      <td>0</td>\n",
       "      <td>0</td>\n",
       "      <td>0</td>\n",
       "      <td>0</td>\n",
       "      <td>0</td>\n",
       "      <td>0</td>\n",
       "      <td>0</td>\n",
       "      <td>0</td>\n",
       "    </tr>\n",
       "    <tr>\n",
       "      <th>1</th>\n",
       "      <td>0</td>\n",
       "      <td>0</td>\n",
       "      <td>0</td>\n",
       "      <td>0</td>\n",
       "      <td>0</td>\n",
       "      <td>0</td>\n",
       "      <td>0</td>\n",
       "      <td>0</td>\n",
       "      <td>0</td>\n",
       "      <td>0</td>\n",
       "      <td>...</td>\n",
       "      <td>0</td>\n",
       "      <td>0</td>\n",
       "      <td>0</td>\n",
       "      <td>0</td>\n",
       "      <td>0</td>\n",
       "      <td>0</td>\n",
       "      <td>0</td>\n",
       "      <td>0</td>\n",
       "      <td>0</td>\n",
       "      <td>0</td>\n",
       "    </tr>\n",
       "    <tr>\n",
       "      <th>2</th>\n",
       "      <td>0</td>\n",
       "      <td>0</td>\n",
       "      <td>0</td>\n",
       "      <td>0</td>\n",
       "      <td>0</td>\n",
       "      <td>0</td>\n",
       "      <td>0</td>\n",
       "      <td>0</td>\n",
       "      <td>0</td>\n",
       "      <td>0</td>\n",
       "      <td>...</td>\n",
       "      <td>0</td>\n",
       "      <td>0</td>\n",
       "      <td>0</td>\n",
       "      <td>0</td>\n",
       "      <td>0</td>\n",
       "      <td>0</td>\n",
       "      <td>0</td>\n",
       "      <td>0</td>\n",
       "      <td>0</td>\n",
       "      <td>0</td>\n",
       "    </tr>\n",
       "    <tr>\n",
       "      <th>3</th>\n",
       "      <td>0</td>\n",
       "      <td>0</td>\n",
       "      <td>0</td>\n",
       "      <td>0</td>\n",
       "      <td>0</td>\n",
       "      <td>0</td>\n",
       "      <td>0</td>\n",
       "      <td>0</td>\n",
       "      <td>0</td>\n",
       "      <td>0</td>\n",
       "      <td>...</td>\n",
       "      <td>0</td>\n",
       "      <td>0</td>\n",
       "      <td>0</td>\n",
       "      <td>0</td>\n",
       "      <td>0</td>\n",
       "      <td>0</td>\n",
       "      <td>0</td>\n",
       "      <td>0</td>\n",
       "      <td>0</td>\n",
       "      <td>0</td>\n",
       "    </tr>\n",
       "    <tr>\n",
       "      <th>4</th>\n",
       "      <td>0</td>\n",
       "      <td>0</td>\n",
       "      <td>0</td>\n",
       "      <td>0</td>\n",
       "      <td>0</td>\n",
       "      <td>0</td>\n",
       "      <td>0</td>\n",
       "      <td>0</td>\n",
       "      <td>0</td>\n",
       "      <td>0</td>\n",
       "      <td>...</td>\n",
       "      <td>0</td>\n",
       "      <td>0</td>\n",
       "      <td>0</td>\n",
       "      <td>0</td>\n",
       "      <td>0</td>\n",
       "      <td>0</td>\n",
       "      <td>0</td>\n",
       "      <td>0</td>\n",
       "      <td>0</td>\n",
       "      <td>0</td>\n",
       "    </tr>\n",
       "  </tbody>\n",
       "</table>\n",
       "<p>5 rows × 15960 columns</p>\n",
       "</div>"
      ],
      "text/plain": [
       "   00  000  00am  00pm  01  03  03342  04  05  07 ...  zucchini  zuchinni  \\\n",
       "0   0    0     0     0   0   0      0   0   0   0 ...         0         0   \n",
       "1   0    0     0     0   0   0      0   0   0   0 ...         0         0   \n",
       "2   0    0     0     0   0   0      0   0   0   0 ...         0         0   \n",
       "3   0    0     0     0   0   0      0   0   0   0 ...         0         0   \n",
       "4   0    0     0     0   0   0      0   0   0   0 ...         0         0   \n",
       "\n",
       "   zumba  zupa  zuzu  zwiebel  zzed  éclairs  école  ém  \n",
       "0      0     0     0        0     0        0      0   0  \n",
       "1      0     0     0        0     0        0      0   0  \n",
       "2      0     0     0        0     0        0      0   0  \n",
       "3      0     0     0        0     0        0      0   0  \n",
       "4      0     0     0        0     0        0      0   0  \n",
       "\n",
       "[5 rows x 15960 columns]"
      ]
     },
     "execution_count": 11,
     "metadata": {},
     "output_type": "execute_result"
    }
   ],
   "source": [
    "tf = pd.DataFrame(X_train_dtm.toarray(), columns=vect.get_feature_names())\n",
    "tf.head()"
   ]
  },
  {
   "cell_type": "code",
   "execution_count": 12,
   "metadata": {
    "collapsed": false
   },
   "outputs": [
    {
     "data": {
      "text/plain": [
       "4309    Im a sucker for great libations and the stores...\n",
       "108     It's just like pizza bianco without the wait. ...\n",
       "7533    Is there a way I can give LUSH an extra star??...\n",
       "9108    What can I say about this place? I love it. It...\n",
       "8582    My husband and I heard great reviews about thi...\n",
       "Name: text, dtype: object"
      ]
     },
     "execution_count": 12,
     "metadata": {},
     "output_type": "execute_result"
    }
   ],
   "source": [
    "X_train.head()"
   ]
  },
  {
   "cell_type": "code",
   "execution_count": 13,
   "metadata": {
    "collapsed": false
   },
   "outputs": [
    {
     "name": "stdout",
     "output_type": "stream",
     "text": [
      "(2737, 15960)\n"
     ]
    }
   ],
   "source": [
    "#rows are documents, columns are terms (tokens or features)\n",
    "#print X_train_dtm\n",
    "print X_train_dtm.shape\n",
    "\n",
    "#print X_train.dtm.sum\n",
    "#print X_train.dtm.shape"
   ]
  },
  {
   "cell_type": "code",
   "execution_count": 14,
   "metadata": {
    "collapsed": false
   },
   "outputs": [
    {
     "name": "stdout",
     "output_type": "stream",
     "text": [
      "[u'yuuuuuuum', u'yuyuyummy', u'yuzu', u'yyyyy', u'z11', u'za', u'zabba', u'zach', u'zam', u'zanella', u'zatsiki', u'zen', u'zero', u'zest', u'zexperience', u'zha', u'zhou', u'zia', u'zihuatenejo', u'zilch', u'zin', u'zinburger', u'zinburgergeist', u'zinc', u'zinfandel', u'zing', u'zip', u'zipcar', u'zipper', u'zippers', u'zipps', u'ziti', u'zoe', u'zombi', u'zombies', u'zone', u'zones', u'zoning', u'zoo', u'zucca', u'zucchini', u'zuchinni', u'zumba', u'zupa', u'zuzu', u'zwiebel', u'zzed', u'\\xe9clairs', u'\\xe9cole', u'\\xe9m']\n"
     ]
    }
   ],
   "source": [
    "#last 50 features\n",
    "\n",
    "#print vect.get_feature_names()\n",
    "\n",
    "print vect.get_feature_names()[-50:]"
   ]
  },
  {
   "cell_type": "code",
   "execution_count": 15,
   "metadata": {
    "collapsed": false
   },
   "outputs": [
    {
     "data": {
      "text/plain": [
       "CountVectorizer(analyzer=u'word', binary=False, decode_error=u'strict',\n",
       "        dtype=<type 'numpy.int64'>, encoding=u'utf-8', input=u'content',\n",
       "        lowercase=True, max_df=1.0, max_features=None, min_df=1,\n",
       "        ngram_range=(1, 1), preprocessor=None, stop_words=None,\n",
       "        strip_accents=None, token_pattern=u'(?u)\\\\b\\\\w\\\\w+\\\\b',\n",
       "        tokenizer=None, vocabulary=None)"
      ]
     },
     "execution_count": 15,
     "metadata": {},
     "output_type": "execute_result"
    }
   ],
   "source": [
    "#show vectorizer options\n",
    "vect"
   ]
  },
  {
   "cell_type": "code",
   "execution_count": 16,
   "metadata": {
    "collapsed": false
   },
   "outputs": [
    {
     "data": {
      "text/plain": [
       "(2737, 19713)"
      ]
     },
     "execution_count": 16,
     "metadata": {},
     "output_type": "execute_result"
    }
   ],
   "source": [
    "#lowercase\n",
    "\n",
    "#don't convert to lowercase\n",
    "vect = CountVectorizer(lowercase=False)\n",
    "\n",
    "#print vect\n",
    "\n",
    "X_train_dtm = vect.fit_transform(X_train)\n",
    "\n",
    "#print X_train_dtm\n",
    "\n",
    "X_train_dtm.shape\n",
    "#print X_train_dtm.shape"
   ]
  },
  {
   "cell_type": "code",
   "execution_count": 17,
   "metadata": {
    "collapsed": false
   },
   "outputs": [
    {
     "data": {
      "text/plain": [
       "(2737, 156567)"
      ]
     },
     "execution_count": 17,
     "metadata": {},
     "output_type": "execute_result"
    }
   ],
   "source": [
    "#N-grams: move one word forward, \n",
    "  #used in text mining, analytics and more\n",
    "\n",
    "#include 1-grams and 2-grams\n",
    "\n",
    "vect=CountVectorizer(ngram_range=(1,2))\n",
    "X_train_dtm = vect.fit_transform(X_train)\n",
    "X_train_dtm.shape"
   ]
  },
  {
   "cell_type": "code",
   "execution_count": 18,
   "metadata": {
    "collapsed": false
   },
   "outputs": [
    {
     "name": "stdout",
     "output_type": "stream",
     "text": [
      "[u'zombies the', u'zone', u'zone of', u'zone out', u'zone when', u'zones', u'zones dolls', u'zoning', u'zoning issues', u'zoo', u'zoo and', u'zoo is', u'zoo not', u'zoo the', u'zoo ve', u'zucca', u'zucca appetizer', u'zucchini', u'zucchini and', u'zucchini bread', u'zucchini broccoli', u'zucchini carrots', u'zucchini fries', u'zucchini pieces', u'zucchini strips', u'zucchini very', u'zucchini with', u'zuchinni', u'zuchinni again', u'zuchinni the', u'zumba', u'zumba class', u'zumba or', u'zumba yogalates', u'zupa', u'zupa flavors', u'zuzu', u'zuzu in', u'zuzu is', u'zuzu the', u'zwiebel', u'zwiebel kr\\xe4uter', u'zzed', u'zzed in', u'\\xe9clairs', u'\\xe9clairs napoleons', u'\\xe9cole', u'\\xe9cole len\\xf4tre', u'\\xe9m', u'\\xe9m all']\n"
     ]
    }
   ],
   "source": [
    "#last 50 features\n",
    "print vect.get_feature_names()[-50:]"
   ]
  },
  {
   "cell_type": "code",
   "execution_count": 19,
   "metadata": {
    "collapsed": false
   },
   "outputs": [
    {
     "name": "stdout",
     "output_type": "stream",
     "text": [
      "0.911045218681\n"
     ]
    }
   ],
   "source": [
    "#use default options for CountVectorizer\n",
    "vect = CountVectorizer()\n",
    "\n",
    "#create document_term matrices\n",
    "X_train_dtm = vect.fit_transform(X_train)\n",
    "X_test_dtm = vect.transform(X_test)\n",
    "\n",
    "#print X_train_dtm\n",
    "#print X_test_dtm\n",
    "#use Naive Bayes to predict the star rating\n",
    "nb = MultinomialNB()\n",
    "\n",
    "#print X_train_dtm\n",
    "#print y_train\n",
    "nb.fit(X_train_dtm, y_train)\n",
    "\n",
    "y_pred_class = nb.predict(X_test_dtm)\n",
    "#print y_pred_class\n",
    "#calculate accuracy\n",
    "print metrics.accuracy_score(y_test, y_pred_class)"
   ]
  },
  {
   "cell_type": "code",
   "execution_count": 20,
   "metadata": {
    "collapsed": true
   },
   "outputs": [],
   "source": [
    "#define a function that accepts a vectorizer and calculates the accuracy\n",
    "def tokenize_test(vect):\n",
    "    X_train_dtm = vect.fit_transform(X_train)\n",
    "    print \"Features: \", X_train_dtm.shape[1]\n",
    "    X_test_dtm = vect.transform(X_test)\n",
    "    nb = MultinomialNB()\n",
    "    nb.fit(X_train_dtm, y_train)\n",
    "    y_pred_class = nb.predict(X_test_dtm)\n",
    "    print \"Accuracy: \", metrics.accuracy_score(y_test, y_pred_class)"
   ]
  },
  {
   "cell_type": "code",
   "execution_count": 21,
   "metadata": {
    "collapsed": false
   },
   "outputs": [
    {
     "name": "stdout",
     "output_type": "stream",
     "text": [
      "Features:  156567\n",
      "Accuracy:  0.84581171238\n"
     ]
    }
   ],
   "source": [
    "#include 1-grams and 2-grams\n",
    "\n",
    "vect = CountVectorizer(ngram_range=(1,2))\n",
    "tokenize_test(vect)"
   ]
  },
  {
   "cell_type": "code",
   "execution_count": null,
   "metadata": {
    "collapsed": true
   },
   "outputs": [],
   "source": [
    "#part 3: stopword removal\n",
    "#what: remove common words that will likely appear in any text\n",
    "#why: they don't tell you much about your text"
   ]
  },
  {
   "cell_type": "code",
   "execution_count": 22,
   "metadata": {
    "collapsed": false
   },
   "outputs": [
    {
     "name": "stdout",
     "output_type": "stream",
     "text": [
      "Features:  15663\n",
      "Accuracy:  0.908821349148\n"
     ]
    }
   ],
   "source": [
    "#remove English stop words\n",
    "#print vect\n",
    "\n",
    "vect = CountVectorizer(stop_words='english')\n",
    "#print vect\n",
    "\n",
    "tokenize_test(vect)"
   ]
  },
  {
   "cell_type": "code",
   "execution_count": 23,
   "metadata": {
    "collapsed": false
   },
   "outputs": [
    {
     "name": "stdout",
     "output_type": "stream",
     "text": [
      "frozenset(['all', 'six', 'less', 'being', 'indeed', 'over', 'move', 'anyway', 'fifty', 'four', 'not', 'own', 'through', 'yourselves', 'go', 'where', 'mill', 'only', 'find', 'before', 'one', 'whose', 'system', 'how', 'somewhere', 'with', 'thick', 'show', 'had', 'enough', 'should', 'to', 'must', 'whom', 'seeming', 'under', 'ours', 'has', 'might', 'thereafter', 'latterly', 'do', 'them', 'his', 'around', 'than', 'get', 'very', 'de', 'none', 'cannot', 'every', 'whether', 'they', 'front', 'during', 'thus', 'now', 'him', 'nor', 'name', 'several', 'hereafter', 'always', 'who', 'cry', 'whither', 'this', 'someone', 'either', 'each', 'become', 'thereupon', 'sometime', 'side', 'two', 'therein', 'twelve', 'because', 'often', 'ten', 'our', 'eg', 'some', 'back', 'up', 'namely', 'towards', 'are', 'further', 'beyond', 'ourselves', 'yet', 'out', 'even', 'will', 'what', 'still', 'for', 'bottom', 'mine', 'since', 'please', 'forty', 'per', 'its', 'everything', 'behind', 'un', 'above', 'between', 'it', 'neither', 'seemed', 'ever', 'across', 'she', 'somehow', 'be', 'we', 'full', 'never', 'sixty', 'however', 'here', 'otherwise', 'were', 'whereupon', 'nowhere', 'although', 'found', 'alone', 're', 'along', 'fifteen', 'by', 'both', 'about', 'last', 'would', 'anything', 'via', 'many', 'could', 'thence', 'put', 'against', 'keep', 'etc', 'amount', 'became', 'ltd', 'hence', 'onto', 'or', 'con', 'among', 'already', 'co', 'afterwards', 'formerly', 'within', 'seems', 'into', 'others', 'while', 'whatever', 'except', 'down', 'hers', 'everyone', 'done', 'least', 'another', 'whoever', 'moreover', 'couldnt', 'throughout', 'anyhow', 'yourself', 'three', 'from', 'her', 'few', 'together', 'top', 'there', 'due', 'been', 'next', 'anyone', 'eleven', 'much', 'call', 'therefore', 'interest', 'then', 'thru', 'themselves', 'hundred', 'was', 'sincere', 'empty', 'more', 'himself', 'elsewhere', 'mostly', 'on', 'fire', 'am', 'becoming', 'hereby', 'amongst', 'else', 'part', 'everywhere', 'too', 'herself', 'former', 'those', 'he', 'me', 'myself', 'made', 'twenty', 'these', 'bill', 'cant', 'us', 'until', 'besides', 'nevertheless', 'below', 'anywhere', 'nine', 'can', 'of', 'your', 'toward', 'my', 'something', 'and', 'whereafter', 'whenever', 'give', 'almost', 'wherever', 'is', 'describe', 'beforehand', 'herein', 'an', 'as', 'itself', 'at', 'have', 'in', 'seem', 'whence', 'ie', 'any', 'fill', 'again', 'hasnt', 'inc', 'thereby', 'thin', 'no', 'perhaps', 'latter', 'meanwhile', 'when', 'detail', 'same', 'wherein', 'beside', 'also', 'that', 'other', 'take', 'which', 'becomes', 'you', 'if', 'nobody', 'see', 'though', 'may', 'after', 'upon', 'most', 'hereupon', 'eight', 'but', 'serious', 'nothing', 'such', 'why', 'a', 'off', 'whereby', 'third', 'i', 'whole', 'noone', 'sometimes', 'well', 'amoungst', 'yours', 'their', 'rather', 'without', 'so', 'five', 'the', 'first', 'whereas', 'once'])\n"
     ]
    }
   ],
   "source": [
    "#set of stop words\n",
    "print vect.get_stop_words()"
   ]
  },
  {
   "cell_type": "code",
   "execution_count": 24,
   "metadata": {
    "collapsed": false
   },
   "outputs": [
    {
     "name": "stdout",
     "output_type": "stream",
     "text": [
      "Features:  100\n",
      "Accuracy:  0.867309117865\n"
     ]
    }
   ],
   "source": [
    "#other CountVectorizer Options\n",
    "\n",
    "#remove English stop words and only keep 100 features\n",
    "\n",
    "vect = CountVectorizer(stop_words='english', max_features=100)\n",
    "tokenize_test(vect)"
   ]
  },
  {
   "cell_type": "code",
   "execution_count": null,
   "metadata": {
    "collapsed": true
   },
   "outputs": [],
   "source": [
    "#doesn't mean that lower the features, better accuracy"
   ]
  },
  {
   "cell_type": "code",
   "execution_count": 25,
   "metadata": {
    "collapsed": false
   },
   "outputs": [
    {
     "name": "stdout",
     "output_type": "stream",
     "text": [
      "[u'amazing', u'area', u'atmosphere', u'awesome', u'bad', u'bar', u'best', u'better', u'big', u'bread', u'came', u'cheese', u'chicken', u'coffee', u'come', u'day', u'definitely', u'delicious', u'did', u'didn', u'dinner', u'don', u'eat', u'excellent', u'experience', u'favorite', u'feel', u'food', u'free', u'fresh', u'friendly', u'going', u'good', u'got', u'great', u'happy', u'home', u'hot', u'hour', u'just', u'know', u'like', u'little', u'll', u'location', u'long', u'looking', u'lot', u'love', u'lunch', u'make', u'meal', u'menu', u'minutes', u'need', u'new', u'nice', u'night', u'order', u'ordered', u'people', u'perfect', u'phoenix', u'pizza', u'place', u'pretty', u'prices', u'really', u'recommend', u'restaurant', u'right', u'said', u'salad', u'sandwich', u'sauce', u'say', u'service', u'staff', u'store', u'sure', u'sweet', u'table', u'thing', u'things', u'think', u'time', u'times', u'took', u'town', u'tried', u'try', u've', u'wait', u'want', u'way', u'went', u'wine', u'work', u'worth', u'years']\n"
     ]
    }
   ],
   "source": [
    "#all 100 features\n",
    "print vect.get_feature_names()"
   ]
  },
  {
   "cell_type": "code",
   "execution_count": 26,
   "metadata": {
    "collapsed": false
   },
   "outputs": [
    {
     "name": "stdout",
     "output_type": "stream",
     "text": [
      "Features:  100000\n",
      "Accuracy:  0.871756856931\n"
     ]
    }
   ],
   "source": [
    "#include 1-grams and 2-grams, and limit the number of features\n",
    "\n",
    "vect = CountVectorizer(ngram_range=(1,2), max_features=100000)\n",
    "tokenize_test(vect)"
   ]
  },
  {
   "cell_type": "code",
   "execution_count": 27,
   "metadata": {
    "collapsed": false
   },
   "outputs": [
    {
     "name": "stdout",
     "output_type": "stream",
     "text": [
      "Features:  39991\n",
      "Accuracy:  0.9280948851\n"
     ]
    }
   ],
   "source": [
    "#include 1-grams and 2-grams, and only include terms that appear at least 2 times\n",
    "vect = CountVectorizer(ngram_range=(1,2),min_df=2)\n",
    "tokenize_test(vect)"
   ]
  },
  {
   "cell_type": "code",
   "execution_count": 49,
   "metadata": {
    "collapsed": true
   },
   "outputs": [],
   "source": [
    "#Part 5: introduction to TextBlob"
   ]
  },
  {
   "cell_type": "code",
   "execution_count": 28,
   "metadata": {
    "collapsed": false
   },
   "outputs": [
    {
     "name": "stdout",
     "output_type": "stream",
     "text": [
      "My wife took me here on my birthday for breakfast and it was excellent.  The weather was perfect which made sitting outside overlooking their grounds an absolute pleasure.  Our waitress was excellent and our food arrived quickly on the semi-busy Saturday morning.  It looked like the place fills up pretty quickly so the earlier you get here the better.\r\n",
      "\r\n",
      "Do yourself a favor and get their Bloody Mary.  It was phenomenal and simply the best I've ever had.  I'm pretty sure they only use ingredients from their garden and blend them fresh when you order it.  It was amazing.\r\n",
      "\r\n",
      "While EVERYTHING on the menu looks excellent, I had the white truffle scrambled eggs vegetable skillet and it was tasty and delicious.  It came with 2 pieces of their griddled bread with was amazing and it absolutely made the meal complete.  It was the best \"toast\" I've ever had.\r\n",
      "\r\n",
      "Anyway, I can't wait to go back!\n"
     ]
    }
   ],
   "source": [
    "#print the first review\n",
    "print yelp_best_worst.text[0]"
   ]
  },
  {
   "cell_type": "code",
   "execution_count": 29,
   "metadata": {
    "collapsed": true
   },
   "outputs": [],
   "source": [
    "#save it as a TextBlob object\n",
    "\n",
    "review=TextBlob(yelp_best_worst.text[0])"
   ]
  },
  {
   "cell_type": "code",
   "execution_count": 30,
   "metadata": {
    "collapsed": false
   },
   "outputs": [
    {
     "data": {
      "text/plain": [
       "WordList(['My', 'wife', 'took', 'me', 'here', 'on', 'my', 'birthday', 'for', 'breakfast', 'and', 'it', 'was', 'excellent', 'The', 'weather', 'was', 'perfect', 'which', 'made', 'sitting', 'outside', 'overlooking', 'their', 'grounds', 'an', 'absolute', 'pleasure', 'Our', 'waitress', 'was', 'excellent', 'and', 'our', 'food', 'arrived', 'quickly', 'on', 'the', 'semi-busy', 'Saturday', 'morning', 'It', 'looked', 'like', 'the', 'place', 'fills', 'up', 'pretty', 'quickly', 'so', 'the', 'earlier', 'you', 'get', 'here', 'the', 'better', 'Do', 'yourself', 'a', 'favor', 'and', 'get', 'their', 'Bloody', 'Mary', 'It', 'was', 'phenomenal', 'and', 'simply', 'the', 'best', 'I', \"'ve\", 'ever', 'had', 'I', \"'m\", 'pretty', 'sure', 'they', 'only', 'use', 'ingredients', 'from', 'their', 'garden', 'and', 'blend', 'them', 'fresh', 'when', 'you', 'order', 'it', 'It', 'was', 'amazing', 'While', 'EVERYTHING', 'on', 'the', 'menu', 'looks', 'excellent', 'I', 'had', 'the', 'white', 'truffle', 'scrambled', 'eggs', 'vegetable', 'skillet', 'and', 'it', 'was', 'tasty', 'and', 'delicious', 'It', 'came', 'with', '2', 'pieces', 'of', 'their', 'griddled', 'bread', 'with', 'was', 'amazing', 'and', 'it', 'absolutely', 'made', 'the', 'meal', 'complete', 'It', 'was', 'the', 'best', 'toast', 'I', \"'ve\", 'ever', 'had', 'Anyway', 'I', 'ca', \"n't\", 'wait', 'to', 'go', 'back'])"
      ]
     },
     "execution_count": 30,
     "metadata": {},
     "output_type": "execute_result"
    }
   ],
   "source": [
    "#list the words\n",
    "review.words"
   ]
  },
  {
   "cell_type": "code",
   "execution_count": 31,
   "metadata": {
    "collapsed": false
   },
   "outputs": [
    {
     "data": {
      "text/plain": [
       "[Sentence(\"My wife took me here on my birthday for breakfast and it was excellent.\"),\n",
       " Sentence(\"The weather was perfect which made sitting outside overlooking their grounds an absolute pleasure.\"),\n",
       " Sentence(\"Our waitress was excellent and our food arrived quickly on the semi-busy Saturday morning.\"),\n",
       " Sentence(\"It looked like the place fills up pretty quickly so the earlier you get here the better.\"),\n",
       " Sentence(\"Do yourself a favor and get their Bloody Mary.\"),\n",
       " Sentence(\"It was phenomenal and simply the best I've ever had.\"),\n",
       " Sentence(\"I'm pretty sure they only use ingredients from their garden and blend them fresh when you order it.\"),\n",
       " Sentence(\"It was amazing.\"),\n",
       " Sentence(\"While EVERYTHING on the menu looks excellent, I had the white truffle scrambled eggs vegetable skillet and it was tasty and delicious.\"),\n",
       " Sentence(\"It came with 2 pieces of their griddled bread with was amazing and it absolutely made the meal complete.\"),\n",
       " Sentence(\"It was the best \"toast\" I've ever had.\"),\n",
       " Sentence(\"Anyway, I can't wait to go back!\")]"
      ]
     },
     "execution_count": 31,
     "metadata": {},
     "output_type": "execute_result"
    }
   ],
   "source": [
    "#list the sentences\n",
    "review.sentences"
   ]
  },
  {
   "cell_type": "code",
   "execution_count": 32,
   "metadata": {
    "collapsed": false
   },
   "outputs": [
    {
     "data": {
      "text/plain": [
       "TextBlob(\"my wife took me here on my birthday for breakfast and it was excellent.  the weather was perfect which made sitting outside overlooking their grounds an absolute pleasure.  our waitress was excellent and our food arrived quickly on the semi-busy saturday morning.  it looked like the place fills up pretty quickly so the earlier you get here the better.\n",
       "\n",
       "do yourself a favor and get their bloody mary.  it was phenomenal and simply the best i've ever had.  i'm pretty sure they only use ingredients from their garden and blend them fresh when you order it.  it was amazing.\n",
       "\n",
       "while everything on the menu looks excellent, i had the white truffle scrambled eggs vegetable skillet and it was tasty and delicious.  it came with 2 pieces of their griddled bread with was amazing and it absolutely made the meal complete.  it was the best \"toast\" i've ever had.\n",
       "\n",
       "anyway, i can't wait to go back!\")"
      ]
     },
     "execution_count": 32,
     "metadata": {},
     "output_type": "execute_result"
    }
   ],
   "source": [
    "#some string methods are available\n",
    "\n",
    "review.lower()"
   ]
  },
  {
   "cell_type": "code",
   "execution_count": 55,
   "metadata": {
    "collapsed": true
   },
   "outputs": [],
   "source": [
    "#Part 6: Stemming and Lemmatization"
   ]
  },
  {
   "cell_type": "code",
   "execution_count": 33,
   "metadata": {
    "collapsed": false
   },
   "outputs": [
    {
     "name": "stdout",
     "output_type": "stream",
     "text": [
      "[u'my', u'wife', u'took', u'me', u'here', u'on', u'my', u'birthday', u'for', u'breakfast', u'and', u'it', u'was', u'excel', u'the', u'weather', u'was', u'perfect', u'which', u'made', u'sit', u'outsid', u'overlook', u'their', u'ground', u'an', u'absolut', u'pleasur', u'our', u'waitress', u'was', u'excel', u'and', u'our', u'food', u'arriv', u'quick', u'on', u'the', u'semi-busi', u'saturday', u'morn', u'it', u'look', u'like', u'the', u'place', u'fill', u'up', u'pretti', u'quick', u'so', u'the', u'earlier', u'you', u'get', u'here', u'the', u'better', u'do', u'yourself', u'a', u'favor', u'and', u'get', u'their', u'bloodi', u'mari', u'it', u'was', u'phenomen', u'and', u'simpli', u'the', u'best', u'i', u've', u'ever', u'had', u'i', u\"'m\", u'pretti', u'sure', u'they', u'onli', u'use', u'ingredi', u'from', u'their', u'garden', u'and', u'blend', u'them', u'fresh', u'when', u'you', u'order', u'it', u'it', u'was', u'amaz', u'while', u'everyth', u'on', u'the', u'menu', u'look', u'excel', u'i', u'had', u'the', u'white', u'truffl', u'scrambl', u'egg', u'veget', u'skillet', u'and', u'it', u'was', u'tasti', u'and', u'delici', u'it', u'came', u'with', u'2', u'piec', u'of', u'their', u'griddl', u'bread', u'with', u'was', u'amaz', u'and', u'it', u'absolut', u'made', u'the', u'meal', u'complet', u'it', u'was', u'the', u'best', u'toast', u'i', u've', u'ever', u'had', u'anyway', u'i', u'ca', u\"n't\", u'wait', u'to', u'go', u'back']\n"
     ]
    }
   ],
   "source": [
    "#initialize stemmer\n",
    "stemmer = SnowballStemmer('english')\n",
    "\n",
    "#stem each word\n",
    "print [stemmer.stem(word) for word in review.words]"
   ]
  },
  {
   "cell_type": "code",
   "execution_count": 34,
   "metadata": {
    "collapsed": false
   },
   "outputs": [
    {
     "name": "stdout",
     "output_type": "stream",
     "text": [
      "['My', 'wife', 'took', 'me', 'here', 'on', 'my', 'birthday', 'for', 'breakfast', 'and', 'it', u'wa', 'excellent', 'The', 'weather', u'wa', 'perfect', 'which', 'made', 'sitting', 'outside', 'overlooking', 'their', u'ground', 'an', 'absolute', 'pleasure', 'Our', 'waitress', u'wa', 'excellent', 'and', 'our', 'food', 'arrived', 'quickly', 'on', 'the', 'semi-busy', 'Saturday', 'morning', 'It', 'looked', 'like', 'the', 'place', u'fill', 'up', 'pretty', 'quickly', 'so', 'the', 'earlier', 'you', 'get', 'here', 'the', 'better', 'Do', 'yourself', 'a', 'favor', 'and', 'get', 'their', 'Bloody', 'Mary', 'It', u'wa', 'phenomenal', 'and', 'simply', 'the', 'best', 'I', \"'ve\", 'ever', 'had', 'I', \"'m\", 'pretty', 'sure', 'they', 'only', 'use', u'ingredient', 'from', 'their', 'garden', 'and', 'blend', 'them', 'fresh', 'when', 'you', 'order', 'it', 'It', u'wa', 'amazing', 'While', 'EVERYTHING', 'on', 'the', 'menu', u'look', 'excellent', 'I', 'had', 'the', 'white', 'truffle', 'scrambled', u'egg', 'vegetable', 'skillet', 'and', 'it', u'wa', 'tasty', 'and', 'delicious', 'It', 'came', 'with', '2', u'piece', 'of', 'their', 'griddled', 'bread', 'with', u'wa', 'amazing', 'and', 'it', 'absolutely', 'made', 'the', 'meal', 'complete', 'It', u'wa', 'the', 'best', 'toast', 'I', \"'ve\", 'ever', 'had', 'Anyway', 'I', 'ca', \"n't\", 'wait', 'to', 'go', 'back']\n"
     ]
    }
   ],
   "source": [
    "#lemmatization\n",
    "#assume every word is a noun\n",
    "print [word.lemmatize() for word in review.words]"
   ]
  },
  {
   "cell_type": "code",
   "execution_count": 35,
   "metadata": {
    "collapsed": false
   },
   "outputs": [
    {
     "name": "stdout",
     "output_type": "stream",
     "text": [
      "['My', 'wife', u'take', 'me', 'here', 'on', 'my', 'birthday', 'for', 'breakfast', 'and', 'it', u'be', 'excellent', 'The', 'weather', u'be', 'perfect', 'which', u'make', u'sit', 'outside', u'overlook', 'their', u'ground', 'an', 'absolute', 'pleasure', 'Our', 'waitress', u'be', 'excellent', 'and', 'our', 'food', u'arrive', 'quickly', 'on', 'the', 'semi-busy', 'Saturday', 'morning', 'It', u'look', 'like', 'the', 'place', u'fill', 'up', 'pretty', 'quickly', 'so', 'the', 'earlier', 'you', 'get', 'here', 'the', 'better', 'Do', 'yourself', 'a', 'favor', 'and', 'get', 'their', 'Bloody', 'Mary', 'It', u'be', 'phenomenal', 'and', 'simply', 'the', 'best', 'I', \"'ve\", 'ever', u'have', 'I', \"'m\", 'pretty', 'sure', 'they', 'only', 'use', 'ingredients', 'from', 'their', 'garden', 'and', 'blend', 'them', 'fresh', 'when', 'you', 'order', 'it', 'It', u'be', u'amaze', 'While', 'EVERYTHING', 'on', 'the', 'menu', u'look', 'excellent', 'I', u'have', 'the', 'white', 'truffle', u'scramble', u'egg', 'vegetable', 'skillet', 'and', 'it', u'be', 'tasty', 'and', 'delicious', 'It', u'come', 'with', '2', u'piece', 'of', 'their', u'griddle', 'bread', 'with', u'be', u'amaze', 'and', 'it', 'absolutely', u'make', 'the', 'meal', 'complete', 'It', u'be', 'the', 'best', 'toast', 'I', \"'ve\", 'ever', u'have', 'Anyway', 'I', 'ca', \"n't\", 'wait', 'to', 'go', 'back']\n"
     ]
    }
   ],
   "source": [
    "#assume every word is a verb\n",
    "print [word.lemmatize(pos='v') for word in review.words]"
   ]
  },
  {
   "cell_type": "code",
   "execution_count": 36,
   "metadata": {
    "collapsed": true
   },
   "outputs": [],
   "source": [
    "#define a function that accepts text and returns a list of lemmas\n",
    "def split_into_lemmas(text):\n",
    "    text = unicode(text, 'utf-8').lower()\n",
    "    words = TextBlob(text).words\n",
    "    return [word.lemmatize() for word in words]"
   ]
  },
  {
   "cell_type": "code",
   "execution_count": 37,
   "metadata": {
    "collapsed": false
   },
   "outputs": [
    {
     "name": "stdout",
     "output_type": "stream",
     "text": [
      "Features:  15530\n",
      "Accuracy:  0.915492957746\n"
     ]
    }
   ],
   "source": [
    "#use split_into_lemmas as the feature extraction function(warning: slow!)\n",
    "vect = CountVectorizer(analyzer=split_into_lemmas)\n",
    "tokenize_test(vect)"
   ]
  },
  {
   "cell_type": "code",
   "execution_count": null,
   "metadata": {
    "collapsed": true
   },
   "outputs": [],
   "source": [
    "#part 8: using TF-IDF to summarize a yelp review"
   ]
  },
  {
   "cell_type": "code",
   "execution_count": 38,
   "metadata": {
    "collapsed": false
   },
   "outputs": [
    {
     "data": {
      "text/plain": [
       "(10000, 28879)"
      ]
     },
     "execution_count": 38,
     "metadata": {},
     "output_type": "execute_result"
    }
   ],
   "source": [
    "#create a document-term matrix using TF-IDF\n",
    "vect = TfidfVectorizer(stop_words='english')\n",
    "dtm = vect.fit_transform(yelp.text)\n",
    "features = vect.get_feature_names()\n",
    "dtm.shape"
   ]
  },
  {
   "cell_type": "code",
   "execution_count": 39,
   "metadata": {
    "collapsed": true
   },
   "outputs": [],
   "source": [
    "def summarize():\n",
    "     #choose a random review that is at least 300 characters\n",
    "     review_length = 0\n",
    "     while review_length < 300:\n",
    "         review_id = np.random.randint(0, len(yelp))\n",
    "         review_text = unicode(yelp.text[review_id], 'utf-8')\n",
    "         review_length = len(review_text)\n",
    "\n",
    "     #create a dictionary of words and their TF-IDF scores\n",
    "     word_scores = {}\n",
    "     for word in TextBlob(review_text).words:\n",
    "         word = word.lower()\n",
    "         if word in features:\n",
    "             word_scores[word] = dtm[review_id, features.index(word)]\n",
    "\n",
    "     # print words with the top 5 TF-IDF scores\n",
    "     print 'TOP SCORING WORDS:'\n",
    "     top_scores = sorted(word_scores.items(), key=lambda x: x[1], \n",
    "reverse=True)[:5]\n",
    "     for word, score in top_scores:\n",
    "         print word\n",
    "\n",
    "     # print 5 random words\n",
    "     print '\\n' + 'RANDOM WORDS:'\n",
    "     random_words = np.random.choice(word_scores.keys(), size=5, \n",
    "replace=False)\n",
    "     for word in random_words:\n",
    "         print word\n",
    "\n",
    "     # print the review\n",
    "     print '\\n' + review_text"
   ]
  },
  {
   "cell_type": "code",
   "execution_count": 40,
   "metadata": {
    "collapsed": false
   },
   "outputs": [
    {
     "name": "stdout",
     "output_type": "stream",
     "text": [
      "TOP SCORING WORDS:\n",
      "assume\n",
      "pita\n",
      "shack\n",
      "bumper\n",
      "falafel\n",
      "\n",
      "RANDOM WORDS:\n",
      "shot\n",
      "baseline\n",
      "closed\n",
      "house\n",
      "previously\n",
      "\n",
      "Sometimes you just want to give an A for effort...\r\n",
      "\r\n",
      "Or maybe more than three lame stars.  As the two other previous reviewers have pointed out succinctly, the man who I assume to be the owner was extremely nice.  I made the 1.5 hour drive from Tucson to watch Avatar at Arizona Mills, and my friends and I decided to grab a bite before heading back.  We randomly drove down Baseline and pretty much stumbled upon this place.  Traffic going westbound towards the 10 was insane.  I mean it was bumper to bumper past Rural.  Anyway, I ask the guy who I assume is the owner why the traffic was so bad.  At first he didn't know, but then realized that the 60 was closed.  He politely recommended that we head south then cut across to get back to the 10.  \r\n",
      "\r\n",
      "I ordered the Jerusalem Falafel sandwich. It was pretty good.  Though, in all honesty, falafel is not one those kind of dishes that one can gush over.  In my opinion, it's pretty hard to mess up deep frying ground chickpeas.  I ought to point out that the ingredients were very fresh.  This also applied to the side salad that comes with the combo meal.  My two friends opted for the gyros, and it looked good.  The meat was thinly sliced, which is somewhat different than others I've had.  They seemed to enjoy the meal, but I don't think they were quite overwhelmed by it either.  In fact, we didn't mention anything about the food during the hour and a half trip back home.  \r\n",
      "\r\n",
      "The food is by no means bad at Pita Shack.  It's adequate to serviceable in terms of Mediterranean food.  The positives regarding the food have to be its freshness and price.  In fact, I spent no more than $8 for a sandwich, salad, and drink.  The service, as noted previously, is undoubtedly the most shining spot of the place.   As we were finishing up our meal, the guy who I assume is the owner offered us lentil soup on the house.  We declined after being quite filled and satisfied from our respective sandwiches.  I believe another reviewer had the same thing happen to him, and he had positive comments about it.  Now, for me it's was the food that really matters.  Accordingly, I gave three stars, as opposed to the four that I was close to giving.  Should I ever return to the Tempe area hankering for food in a pita, I would most definitely give Pita Shack another shot; if only to support a genuinely nice guy's business.\n"
     ]
    }
   ],
   "source": [
    "summarize()"
   ]
  },
  {
   "cell_type": "code",
   "execution_count": 41,
   "metadata": {
    "collapsed": false
   },
   "outputs": [
    {
     "name": "stdout",
     "output_type": "stream",
     "text": [
      "My wife took me here on my birthday for breakfast and it was excellent.  The weather was perfect which made sitting outside overlooking their grounds an absolute pleasure.  Our waitress was excellent and our food arrived quickly on the semi-busy Saturday morning.  It looked like the place fills up pretty quickly so the earlier you get here the better.\r\n",
      "\r\n",
      "Do yourself a favor and get their Bloody Mary.  It was phenomenal and simply the best I've ever had.  I'm pretty sure they only use ingredients from their garden and blend them fresh when you order it.  It was amazing.\r\n",
      "\r\n",
      "While EVERYTHING on the menu looks excellent, I had the white truffle scrambled eggs vegetable skillet and it was tasty and delicious.  It came with 2 pieces of their griddled bread with was amazing and it absolutely made the meal complete.  It was the best \"toast\" I've ever had.\r\n",
      "\r\n",
      "Anyway, I can't wait to go back!\n"
     ]
    }
   ],
   "source": [
    "#sentimental analysis: text classification model\n",
    "#http://text-processing.com/demo/sentiment\n",
    "\n",
    "print review"
   ]
  },
  {
   "cell_type": "code",
   "execution_count": 42,
   "metadata": {
    "collapsed": false
   },
   "outputs": [
    {
     "data": {
      "text/plain": [
       "0.40246913580246907"
      ]
     },
     "execution_count": 42,
     "metadata": {},
     "output_type": "execute_result"
    }
   ],
   "source": [
    "#polarity ranges from -1 (most negative) to 1 (most positive)\n",
    "review.sentiment.polarity"
   ]
  },
  {
   "cell_type": "code",
   "execution_count": 43,
   "metadata": {
    "collapsed": false
   },
   "outputs": [
    {
     "data": {
      "text/html": [
       "<div>\n",
       "<table border=\"1\" class=\"dataframe\">\n",
       "  <thead>\n",
       "    <tr style=\"text-align: right;\">\n",
       "      <th></th>\n",
       "      <th>business_id</th>\n",
       "      <th>date</th>\n",
       "      <th>review_id</th>\n",
       "      <th>stars</th>\n",
       "      <th>text</th>\n",
       "      <th>type</th>\n",
       "      <th>user_id</th>\n",
       "      <th>cool</th>\n",
       "      <th>useful</th>\n",
       "      <th>funny</th>\n",
       "      <th>length</th>\n",
       "    </tr>\n",
       "  </thead>\n",
       "  <tbody>\n",
       "    <tr>\n",
       "      <th>0</th>\n",
       "      <td>9yKzy9PApeiPPOUJEtnvkg</td>\n",
       "      <td>1/26/2011</td>\n",
       "      <td>fWKvX83p0-ka4JS3dc6E5A</td>\n",
       "      <td>5</td>\n",
       "      <td>My wife took me here on my birthday for breakf...</td>\n",
       "      <td>review</td>\n",
       "      <td>rLtl8ZkDX5vH5nAx9C3q5Q</td>\n",
       "      <td>2</td>\n",
       "      <td>5</td>\n",
       "      <td>0</td>\n",
       "      <td>895</td>\n",
       "    </tr>\n",
       "  </tbody>\n",
       "</table>\n",
       "</div>"
      ],
      "text/plain": [
       "              business_id       date               review_id  stars  \\\n",
       "0  9yKzy9PApeiPPOUJEtnvkg  1/26/2011  fWKvX83p0-ka4JS3dc6E5A      5   \n",
       "\n",
       "                                                text    type  \\\n",
       "0  My wife took me here on my birthday for breakf...  review   \n",
       "\n",
       "                  user_id  cool  useful  funny  length  \n",
       "0  rLtl8ZkDX5vH5nAx9C3q5Q     2       5      0     895  "
      ]
     },
     "execution_count": 43,
     "metadata": {},
     "output_type": "execute_result"
    }
   ],
   "source": [
    "#understand the apply method\n",
    "\n",
    "yelp['length'] = yelp.text.apply(len)\n",
    "yelp.head(1)"
   ]
  },
  {
   "cell_type": "code",
   "execution_count": 44,
   "metadata": {
    "collapsed": true
   },
   "outputs": [],
   "source": [
    "#define a function that accepts text and returns the polarity\n",
    "def detect_sentiment(text):\n",
    "    return TextBlob(text.decode('utf-8')).sentiment.polarity"
   ]
  },
  {
   "cell_type": "code",
   "execution_count": 45,
   "metadata": {
    "collapsed": false
   },
   "outputs": [],
   "source": [
    "#creating a new DataFrame column for sentiment (warning: slow!)\n",
    "yelp['sentiment'] = yelp.text.apply(detect_sentiment)"
   ]
  },
  {
   "cell_type": "code",
   "execution_count": 46,
   "metadata": {
    "collapsed": false
   },
   "outputs": [
    {
     "data": {
      "text/plain": [
       "<matplotlib.axes._subplots.AxesSubplot at 0x1125bbdd0>"
      ]
     },
     "execution_count": 46,
     "metadata": {},
     "output_type": "execute_result"
    },
    {
     "data": {
      "image/png": "[encoded data removed]",
      "text/plain": [
       "<matplotlib.figure.Figure at 0x10e5e4e10>"
      ]
     },
     "metadata": {},
     "output_type": "display_data"
    }
   ],
   "source": [
    "#box plot of sentiment grouped by stars\n",
    "yelp.boxplot(column='sentiment', by='stars')"
   ]
  },
  {
   "cell_type": "code",
   "execution_count": null,
   "metadata": {
    "collapsed": true
   },
   "outputs": [],
   "source": []
  }
 ],
 "metadata": {
  "kernelspec": {
   "display_name": "Python [conda env:python2]",
   "language": "python",
   "name": "conda-env-python2-py"
  },
  "language_info": {
   "codemirror_mode": {
    "name": "ipython",
    "version": 2
   },
   "file_extension": ".py",
   "mimetype": "text/x-python",
   "name": "python",
   "nbconvert_exporter": "python",
   "pygments_lexer": "ipython2",
   "version": "2.7.12"
  }
 },
 "nbformat": 4,
 "nbformat_minor": 1
}
